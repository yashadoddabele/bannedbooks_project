{
 "cells": [
  {
   "cell_type": "code",
   "execution_count": null,
   "id": "bbb315be",
   "metadata": {},
   "outputs": [],
   "source": [
    "import pandas as pd\n",
    "banned_books = pd.read_csv(\"PEN America's Index of School Book Bans (July 1, 2021 - June 30, 2022) - Sorted by Author & Title.csv\")\n",
    "banned_books.head()"
   ]
  },
  {
   "cell_type": "code",
   "execution_count": null,
   "id": "e8241ede",
   "metadata": {},
   "outputs": [],
   "source": [
    "other_books = pd.read_csv(\"books_1.Best_Books_Ever.csv\")\n",
    "other_books.head()"
   ]
  },
  {
   "cell_type": "code",
   "execution_count": null,
   "id": "3737561b",
   "metadata": {},
   "outputs": [],
   "source": [
    "total_books = pd.merge(banned_books, other_books, left_on=\"Unnamed: 1\", right_on=\"title\")\n",
    "print(total_books.head())\n",
    "print(total_books.shape[0])"
   ]
  },
  {
   "cell_type": "code",
   "execution_count": null,
   "id": "e7eeca2e",
   "metadata": {},
   "outputs": [],
   "source": [
    "\"\""
   ]
  }
 ],
 "metadata": {
  "kernelspec": {
   "display_name": "Python 3 (ipykernel)",
   "language": "python",
   "name": "python3"
  },
  "language_info": {
   "codemirror_mode": {
    "name": "ipython",
    "version": 3
   },
   "file_extension": ".py",
   "mimetype": "text/x-python",
   "name": "python",
   "nbconvert_exporter": "python",
   "pygments_lexer": "ipython3",
   "version": "3.9.13"
  }
 },
 "nbformat": 4,
 "nbformat_minor": 5
}
